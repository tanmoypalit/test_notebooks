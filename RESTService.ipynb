{
  "nbformat": 4,
  "nbformat_minor": 0,
  "metadata": {
    "colab": {
      "provenance": [],
      "authorship_tag": "ABX9TyNRJzDVsKQH2QOomwmpQT4c",
      "include_colab_link": true
    },
    "kernelspec": {
      "name": "python3",
      "display_name": "Python 3"
    },
    "language_info": {
      "name": "python"
    }
  },
  "cells": [
    {
      "cell_type": "markdown",
      "metadata": {
        "id": "view-in-github",
        "colab_type": "text"
      },
      "source": [
        "<a href=\"https://colab.research.google.com/github/tanmoypalit/test_notebooks/blob/main/RESTService.ipynb\" target=\"_parent\"><img src=\"https://colab.research.google.com/assets/colab-badge.svg\" alt=\"Open In Colab\"/></a>"
      ]
    },
    {
      "cell_type": "code",
      "source": [
        "%%bash\n",
        "\n",
        "mkdir -p ./data/local-service\n",
        "\n",
        "sudo apt install -y mongodb > log\n",
        "service mongodb start\n",
        "\n",
        "apt-get update -y\n",
        "apt-get install python3.8\n",
        "update-alternatives --install /usr/bin/python3 python3 /usr/bin/python3.9 1\n",
        "update-alternatives --install /usr/bin/python3 python3 /usr/bin/python3.8 2\n",
        "\n",
        "python3 --version\n",
        "\n",
        "apt update && apt install python3-pip -y\n",
        "\n",
        "python3 -m pip install virtualenv\n",
        "virtualenv tlc_env\n",
        "\n",
        "MYUSER=\n",
        "MYAPIKEY=\n",
        "PYPIREPO=bluware.jfrog.io/artifactory/api/pypi/Releases-TLC-Pypi-ubuntu\n",
        "\n",
        "source /content/tlc_env/bin/activate\n",
        "python3 -m pip install --upgrade pip\n",
        "echo \"\"\" \n",
        "[global] \n",
        "index-url=https://${MYUSER}:${MYAPIKEY}@${PYPIREPO}/simple\n",
        "extra-index-url=https://download.pytorch.org/whl/cu113/ https://pypi.org/simple \n",
        "\"\"\" > tlc_env/pip.conf\n",
        "python3 -m pip install numpy==1.23.5\n",
        "python3 -m pip install tlc[torch] --use-deprecated=legacy-resolver\n",
        "# tlc-local-service --storage-url ./data/local-service --baselogdir ./log.txt\n",
        "#while true; do nohup tlc-local-service --storage-url ./data/local-service --baselogdir ./local-service-logs >/dev/null 2>&1; sleep 5; done >/dev/null 2>&1 &\n"
      ],
      "metadata": {
        "id": "xYLqd91d8Ztt"
      },
      "execution_count": null,
      "outputs": []
    },
    {
      "cell_type": "code",
      "source": [
        "get_ipython().system_raw('source /content/tlc_env/bin/activate; tlc-local-service --storage-url ./data/local-service --baselogdir ./local-service-logs &')"
      ],
      "metadata": {
        "id": "SFop-tv3Y62r"
      },
      "execution_count": null,
      "outputs": []
    },
    {
      "cell_type": "code",
      "source": [
        "!python3.9 -m pip install pyngrok --quiet\n",
        "from pyngrok import ngrok\n",
        "ngrok.set_auth_token(\"2OjqJOhBheFRmJ2A48HbPFkTxlI_5q74qRqENCUgFozDEHvj3\") \n",
        "\n",
        "ngrok_tunnel2 = ngrok.connect(5001)\n",
        "print('Public URL:', ngrok_tunnel2.public_url)"
      ],
      "metadata": {
        "id": "kvepOi_eROX1"
      },
      "execution_count": null,
      "outputs": []
    }
  ]
}